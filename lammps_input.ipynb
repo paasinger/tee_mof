{
 "cells": [
  {
   "cell_type": "code",
   "execution_count": null,
   "metadata": {
    "collapsed": false
   },
   "outputs": [],
   "source": [
    "import os\n",
    "import shutil\n",
    "from lammps_input import *"
   ]
  },
  {
   "cell_type": "code",
   "execution_count": null,
   "metadata": {
    "collapsed": true
   },
   "outputs": [],
   "source": [
    "cwd = os.getcwd()\n",
    "sample_dir = os.path.join(cwd, 'sample')\n",
    "trials_dir = os.path.join(cwd, 'Trials')\n",
    "\n",
    "input_path = os.path.join(sample_dir, 'in.cond.sample')\n",
    "data_path = os.path.join(sample_dir, 'lammps.data.sample')\n",
    "qsub_path = os.path.join(sample_dir, 'lammps_qsub.sh.sample')"
   ]
  },
  {
   "cell_type": "code",
   "execution_count": null,
   "metadata": {
    "collapsed": false
   },
   "outputs": [],
   "source": [
    "masses = [[1, 39.948], [2, 20.1797]]"
   ]
  },
  {
   "cell_type": "markdown",
   "metadata": {
    "collapsed": false
   },
   "source": [
    "## Trial 2 - Half mass\n"
   ]
  },
  {
   "cell_type": "code",
   "execution_count": null,
   "metadata": {
    "collapsed": false
   },
   "outputs": [],
   "source": [
    "masses = [[1, 39.948], [2, 20.1797]]\n",
    "trial2_dir = os.path.join(trials_dir, 'Trial2')\n",
    "seeds = [123456, 123457, 123458, 123459, 123460]\n",
    "\n",
    "with open(input_path, 'r') as sample_input:\n",
    "    input_lines = sample_input.readlines()\n",
    "    \n",
    "with open(data_path, 'r') as sample_input:\n",
    "    data_lines = sample_input.readlines()\n",
    "\n",
    "if not os.path.exists(trial2_dir):\n",
    "    os.mkdir(trial2_dir)\n",
    "\n",
    "for i in range(5):\n",
    "    run_dir = os.path.join(trial2_dir, 'Run%i' % i)\n",
    "    if not os.path.exists(run_dir):\n",
    "        os.mkdir(run_dir)\n",
    "    \n",
    "    input_lines = change_seed(input_lines, seed=seeds[i])\n",
    "    data_lines = change_masses(data_lines, masses)\n",
    "    job_name = 'Trial2-Run%i' % i\n",
    "    qsub_lines = lammps_qsub(qsub_path, name=job_name)\n",
    "    \n",
    "    inp = os.path.join(run_dir, 'in.cond')\n",
    "    qs = os.path.join(run_dir, 'lammps_qsub.sh')\n",
    "    dt = os.path.join(run_dir, 'lammps.data')\n",
    "    \n",
    "    export_lines(input_lines, inp)\n",
    "    export_lines(data_lines, dt)\n",
    "    export_lines(qsub_lines, qs)"
   ]
  },
  {
   "cell_type": "markdown",
   "metadata": {
    "collapsed": false
   },
   "source": [
    "## Trial 3 - Pair Coefficients"
   ]
  },
  {
   "cell_type": "code",
   "execution_count": null,
   "metadata": {
    "collapsed": false
   },
   "outputs": [],
   "source": [
    "seeds = [123456, 123457, 123458, 123459, 123460]\n",
    "pair_coefficients = [0.01, 0.025, 0.05, 0.075, 0.1]\n",
    "\n",
    "for trial_index, pc in enumerate(pair_coefficients):\n",
    "    trial_dir = os.path.join(trials_dir, 'Trial3-%i' % (trial_index + 1))      # Initialize trial directory\n",
    "    if not os.path.exists(trial_dir):\n",
    "        os.mkdir(trial_dir)\n",
    "        \n",
    "    coefficient_list = [[1, 1, 0, 3.405],\n",
    "                        [2, 2, 0, 3.405],\n",
    "                        [1, 2, pc, 3.405]]\n",
    "    \n",
    "    with open(input_path, 'r') as sample_input:\n",
    "        input_lines = sample_input.readlines()\n",
    "\n",
    "    for i in range(5):\n",
    "        run_dir = os.path.join(trial_dir, 'Run%i' % i)\n",
    "        if not os.path.exists(run_dir):\n",
    "            os.mkdir(run_dir)\n",
    "\n",
    "        input_lines = change_seed(input_lines, seed=seeds[i])\n",
    "        input_lines = change_pair_coeff(input_lines, coefficient_list)\n",
    "        job_name = 'PC%i-Run%i' % (pc, i)\n",
    "        qsub_lines = lammps_qsub(qsub_path, name=job_name)\n",
    "\n",
    "        inp = os.path.join(run_dir, 'in.cond')\n",
    "        qs = os.path.join(run_dir, 'lammps_qsub.sh')\n",
    "        dt = os.path.join(run_dir, 'lammps.data')\n",
    "\n",
    "        export_lines(input_lines, inp)\n",
    "        export_lines(qsub_lines, qs)\n",
    "        shutil.copy(data_path, dt)"
   ]
  },
  {
   "cell_type": "markdown",
   "metadata": {
    "collapsed": true
   },
   "source": [
    "## Trial 4 - Sigma Values"
   ]
  },
  {
   "cell_type": "code",
   "execution_count": 1,
   "metadata": {
    "collapsed": false
   },
   "outputs": [
    {
     "ename": "NameError",
     "evalue": "name 'os' is not defined",
     "output_type": "error",
     "traceback": [
      "\u001b[0;31m---------------------------------------------------------------------------\u001b[0m",
      "\u001b[0;31mNameError\u001b[0m                                 Traceback (most recent call last)",
      "\u001b[0;32m<ipython-input-1-c93b32d8a89e>\u001b[0m in \u001b[0;36m<module>\u001b[0;34m()\u001b[0m\n\u001b[1;32m      3\u001b[0m \u001b[0;34m\u001b[0m\u001b[0m\n\u001b[1;32m      4\u001b[0m \u001b[0;32mfor\u001b[0m \u001b[0mtrial_index\u001b[0m\u001b[0;34m,\u001b[0m \u001b[0msigma\u001b[0m \u001b[0;32min\u001b[0m \u001b[0menumerate\u001b[0m\u001b[0;34m(\u001b[0m\u001b[0msigma_values\u001b[0m\u001b[0;34m)\u001b[0m\u001b[0;34m:\u001b[0m\u001b[0;34m\u001b[0m\u001b[0m\n\u001b[0;32m----> 5\u001b[0;31m     \u001b[0mtrial_dir\u001b[0m \u001b[0;34m=\u001b[0m \u001b[0mos\u001b[0m\u001b[0;34m.\u001b[0m\u001b[0mpath\u001b[0m\u001b[0;34m.\u001b[0m\u001b[0mjoin\u001b[0m\u001b[0;34m(\u001b[0m\u001b[0mtrials_dir\u001b[0m\u001b[0;34m,\u001b[0m \u001b[0;34m'Trial3-%i'\u001b[0m \u001b[0;34m%\u001b[0m \u001b[0;34m(\u001b[0m\u001b[0mtrial_index\u001b[0m \u001b[0;34m+\u001b[0m \u001b[0;36m1\u001b[0m\u001b[0;34m)\u001b[0m\u001b[0;34m)\u001b[0m      \u001b[0;31m# Initialize trial directory\u001b[0m\u001b[0;34m\u001b[0m\u001b[0m\n\u001b[0m\u001b[1;32m      6\u001b[0m     \u001b[0;32mif\u001b[0m \u001b[0;32mnot\u001b[0m \u001b[0mos\u001b[0m\u001b[0;34m.\u001b[0m\u001b[0mpath\u001b[0m\u001b[0;34m.\u001b[0m\u001b[0mexists\u001b[0m\u001b[0;34m(\u001b[0m\u001b[0mtrial_dir\u001b[0m\u001b[0;34m)\u001b[0m\u001b[0;34m:\u001b[0m\u001b[0;34m\u001b[0m\u001b[0m\n\u001b[1;32m      7\u001b[0m         \u001b[0mos\u001b[0m\u001b[0;34m.\u001b[0m\u001b[0mmkdir\u001b[0m\u001b[0;34m(\u001b[0m\u001b[0mtrial_dir\u001b[0m\u001b[0;34m)\u001b[0m\u001b[0;34m\u001b[0m\u001b[0m\n",
      "\u001b[0;31mNameError\u001b[0m: name 'os' is not defined"
     ]
    }
   ],
   "source": [
    "seeds = [123456, 123457, 123458, 123459, 123460]\n",
    "sigma_values = [1, 2, 3, 4, 5, 6, 7, 8, 9, 10]\n",
    "\n",
    "for trial_index, sigma in enumerate(sigma_values):\n",
    "    trial_dir = os.path.join(trials_dir, 'Trial3-%i' % (trial_index + 1))      # Initialize trial directory\n",
    "    if not os.path.exists(trial_dir):\n",
    "        os.mkdir(trial_dir)\n",
    "        \n",
    "    coefficient_list = [[1, 1, 0, sigma],\n",
    "                        [2, 2, 0, sigma],\n",
    "                        [1, 2, 0.1, sigma]]\n",
    "    \n",
    "    with open(input_path, 'r') as sample_input:\n",
    "        input_lines = sample_input.readlines()\n",
    "\n",
    "    for i in range(5):\n",
    "        run_dir = os.path.join(trial_dir, 'Run%i' % i)\n",
    "        if not os.path.exists(run_dir):\n",
    "            os.mkdir(run_dir)\n",
    "\n",
    "        input_lines = change_seed(input_lines, seed=seeds[i])\n",
    "        input_lines = change_pair_coeff(input_lines, coefficient_list)\n",
    "        job_name = 'PC%i-Run%i' % (pc, i)\n",
    "        qsub_lines = lammps_qsub(qsub_path, name=job_name)\n",
    "\n",
    "        inp = os.path.join(run_dir, 'in.cond')\n",
    "        qs = os.path.join(run_dir, 'lammps_qsub.sh')\n",
    "        dt = os.path.join(run_dir, 'lammps.data')\n",
    "\n",
    "        export_lines(input_lines, inp)\n",
    "        export_lines(qsub_lines, qs)\n",
    "        shutil.copy(data_path, dt)"
   ]
  }
 ],
 "metadata": {
  "anaconda-cloud": {},
  "kernelspec": {
   "display_name": "Python [default]",
   "language": "python",
   "name": "python3"
  },
  "language_info": {
   "codemirror_mode": {
    "name": "ipython",
    "version": 3
   },
   "file_extension": ".py",
   "mimetype": "text/x-python",
   "name": "python",
   "nbconvert_exporter": "python",
   "pygments_lexer": "ipython3",
   "version": "3.5.2"
  }
 },
 "nbformat": 4,
 "nbformat_minor": 0
}
